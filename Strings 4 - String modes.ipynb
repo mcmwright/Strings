{
 "cells": [
  {
   "cell_type": "markdown",
   "metadata": {},
   "source": [
    "# ISVR1032 Acoustics I\n",
    "## String modes\n",
    "### Matthew Wright mcmw@isvr.soton.ac.uk"
   ]
  },
  {
   "cell_type": "code",
   "execution_count": 1,
   "metadata": {
    "collapsed": false
   },
   "outputs": [
    {
     "name": "stdout",
     "output_type": "stream",
     "text": [
      "Using matplotlib backend: Qt4Agg\n",
      "Populating the interactive namespace from numpy and matplotlib\n"
     ]
    }
   ],
   "source": [
    "%pylab\n",
    "import matplotlib.animation as animation"
   ]
  },
  {
   "cell_type": "markdown",
   "metadata": {},
   "source": [
    "## Overview\n",
    "In the last notebook we used d'Alembert's solution of the one-dimensional wave equation to predict the motion of a plucked string. The result wasn't a perfect simulation of a real string because of the modelling assumptions that we made in order to make the problem simple enough to solve, which we can classify into:\n",
    "- Wave equation assumptions (no stiffness, planar, small amplitude).\n",
    "- Boundary conditions assumptions (rigidly fixed ends).\n",
    "- Initial condition assumptions (stationary triangular shape).\n",
    "\n",
    "Although the model was a deliberate simplification its predictions of the string's motion were good, at least for the first few periods. We were also able to predict the time-history of the force signal applied to the bridge. As noted it's unrealistic that this signal doesn't decay but there's another question that's of interest to Acoustical engineers: what does it sound like? What is its frequency content? We'll explore that question in this notebook."
   ]
  },
  {
   "cell_type": "markdown",
   "metadata": {},
   "source": [
    "We'll begin by taking the code we used to animate the plucked string in the previous notebook and use it to make a function `string_init()` that takes $y_\\infty(\\cdot)$ as an argument (i.e. an input) and produces the corresponding animation. We'll make the wave speed $c$ an argument too, but we'll leave the string length as a global variable because it will affect the form of $y_\\infty(\\cdot)$.\n",
    "\n",
    "As before we'll display both the components and the actual string with a vertical offset, but this time we'll calculate the offset from $y_\\infty(\\cdot)$. We'll animate a whole period."
   ]
  },
  {
   "cell_type": "code",
   "execution_count": 2,
   "metadata": {
    "collapsed": false
   },
   "outputs": [],
   "source": [
    "def string_init(y_inf, c):\n",
    "\n",
    "    xs = linspace(0, L, 500)      # String from 0 to L\n",
    "    x = linspace(-L, 2*L, 1000)     # Extended domain\n",
    "    offset = 2*y_inf(x).max()\n",
    "\n",
    "    movie = []                             \n",
    "    fig, ax = subplots()\n",
    "    for t in linspace(0, 2*L/c, 100):           \n",
    "        frame = ax.plot(xs, (y_inf(xs - c*t) + y_inf(xs + c*t))/2 + offset, 'm',               # Actual string       \n",
    "                        x, y_inf(x - c*t)/2, 'r',               # Right-going wave\n",
    "                        x, y_inf(x + c*t)/2, 'b',               # Left-going wave\n",
    "                        [0, 0, L, L], [0, offset, 0, offset], 'ro') # Dots\n",
    "        ylim((-2*offset, 4*offset)) # Adjust the y-axis\n",
    "        movie.append(frame)                 \n",
    "\n",
    "    ani = animation.ArtistAnimation(fig, movie, interval=50, blit=True)     \n",
    "    fig.show() \n",
    "    return ani"
   ]
  },
  {
   "cell_type": "markdown",
   "metadata": {},
   "source": [
    "We need to return the resulting animation object `ani` because if we don't Python will assume we don't want it and won't produce an animation. For the same reason we'll need to store the output when we call our `string_init()` function.\n",
    "\n",
    "Let's check it by calling it with the same plucked initial condition as before. This time we'll name the functions so as to indicate that they refer to this particular initial condition. "
   ]
  },
  {
   "cell_type": "code",
   "execution_count": 3,
   "metadata": {
    "collapsed": true
   },
   "outputs": [],
   "source": [
    "A = 0.01\n",
    "L = 0.64\n",
    "beta = 0.3\n",
    "\n",
    "def y_pluck(x):\n",
    "    return (A/L)*((x/beta)*(x >= 0)*(x < beta*L) + (L - x)/(1 - beta)*(x >= beta*L)*(x <= L))\n",
    "\n",
    "def y_inf_pluck_scalar(x):\n",
    "    x = mod(x, 2*L)\n",
    "    if 0 <= x <= L:\n",
    "        return y_pluck(x)\n",
    "    elif L < x <= 2*L:\n",
    "        return -y_pluck(2*L - x)\n",
    "    \n",
    "y_inf_pluck = vectorize(y_inf_pluck_scalar)"
   ]
  },
  {
   "cell_type": "markdown",
   "metadata": {},
   "source": [
    "Now we can call our function, specifying the wave speed $c$ and remembering to reference the returned animation object."
   ]
  },
  {
   "cell_type": "code",
   "execution_count": 4,
   "metadata": {
    "collapsed": true
   },
   "outputs": [],
   "source": [
    "outer_ani = string_init(y_inf_pluck, 250)"
   ]
  },
  {
   "cell_type": "markdown",
   "metadata": {},
   "source": [
    "#### Exercise\n",
    "Try calling this with different values of wave speed $c$. What do you notice and how do you explain it?"
   ]
  },
  {
   "cell_type": "markdown",
   "metadata": {},
   "source": [
    "## Sinusoidal initial conditions\n",
    "If we had an initial condition\n",
    "\n",
    "$$\n",
    "y_0(x) = \\sin\\left(\\frac{\\pi x}{L}\\right),\n",
    "$$\n",
    "\n",
    "it would satisfy the boundary conditions, because $\\sin 0=0$ and $\\sin\\pi = 0$, and $y_\\infty(x)$ would have a particularly simple form:\n",
    "\n",
    "$$\n",
    "y_\\infty(x) = \\sin\\left(\\frac{\\pi x}{L}\\right).\n",
    "$$\n",
    "\n",
    "We can use `string_init()` to show what the corrrsponding string motion will be."
   ]
  },
  {
   "cell_type": "code",
   "execution_count": 5,
   "metadata": {
    "collapsed": false
   },
   "outputs": [],
   "source": [
    "def sinusoidal(x):\n",
    "    return sin(pi*x/L)\n",
    "\n",
    "outer_ani = string_init(sinusoidal, 200)"
   ]
  },
  {
   "cell_type": "markdown",
   "metadata": {},
   "source": [
    "The equation for the string motion with this initial condition is\n",
    "\n",
    "$$\n",
    "\\begin{align}\n",
    "y(x,t) &= {\\textstyle\\frac{1}{2}} [y_\\infty(x - ct) + y_\\infty(x + ct)]\\\\\n",
    "&= {\\textstyle\\frac{1}{2}} \\sin\\left[\\frac{\\pi(x - ct)}{L}\\right] + {\\textstyle\\frac{1}{2}}\\sin\\left[\\frac{\\pi(x + ct)}{L}\\right]\n",
    "\\end{align}\n",
    "$$\n",
    "\n",
    "The period of the motion is $T = 2L/c$ so its frequency is $f = 1/T = c/(2L)$ and its circular frequency is $\\omega = 2\\pi f = \\pi c/L$ which we can use to write \n",
    "\n",
    "$$\n",
    "y(x,t) = {\\textstyle\\frac{1}{2}} \\sin\\left(\\frac{\\pi x}{L} - \\omega t\\right) + {\\textstyle\\frac{1}{2}}\\sin\\left(\\frac{\\pi x}{L} + \\omega t\\right).\n",
    "$$\n",
    "\n",
    "If we take the sine addition/subtraction identities\n",
    "\n",
    "$$\n",
    "\\begin{align}\n",
    "\\sin(A+B) &= \\sin A \\cos B + \\sin B \\cos A \\\\\n",
    "\\sin(A-B) &= \\sin A \\cos B - \\sin B \\cos A\n",
    "\\end{align}\n",
    "$$\n",
    "\n",
    "and add them we get\n",
    "\n",
    "$$\n",
    "\\sin(A+B) + \\sin(A-B) = 2\\sin A \\cos B,\n",
    "$$\n",
    "\n",
    "which, applied to $y(x,t)$, gives\n",
    "\n",
    "$$\n",
    "y(x,t) =  \\sin\\left(\\frac{\\pi x}{L}\\right) \\cos \\omega t.\n",
    "$$\n",
    "\n",
    "This is an example of a **separable solution** of the wave equation, because the dependence on the two independent variables $x$ and $t$ is 'separated' into a product of two functions; one is a function of $x$ but not $t$, and the other is a function of $t$ but not $x$, i.e. \n",
    "\n",
    "$$\n",
    "y(x,t) = p(x)\\times q(t)\n",
    "$$\n",
    "\n",
    "Not all solutions of the wave equation are separable, for example the motion of our plucked string isn't separable. By inspecting the general form of the separable solution above we see that it must have the following properties:\n",
    "\n",
    "1. ***When*** $q(t) = 0$ we must have $y(x,t) = 0\\; \\forall\\, x$.\n",
    "2. ***Where*** $p(x) = 0$ we must have $y(x,t) = 0\\; \\forall\\, t$.\n",
    "3. The shape of the string's displacement doesn't change with time except to grow and shrink in amplitude.\n",
    "\n",
    "So if $y(x,t)$ is plotted as a surface then contour lines at $y(x,t)=0$ would be straight lines in the $x$ and $t$ directions, meeting at right angles.\n",
    "\n",
    "The third property suggests that we don't have wave motion - this kind of motion caused by the superposition of two opposite-going waves of the same amplitude is called a **standing wave**.\n",
    "\n",
    "#### Exercises\n",
    "1. Run the animation of our sinusoidal initial condition again and observe the places where $y(x,t)= 0\\;  \\forall\\, t $ and the times when  $y(x,t) = 0\\; \\forall\\, x$.\n",
    "2. Make a plot that verifies the statement above about the contours $y(x,t)=0$."
   ]
  },
  {
   "cell_type": "markdown",
   "metadata": {},
   "source": [
    "## Modes of vibration\n",
    "\n",
    "The wave equation can always be separated into spatial and temporal factors with a sinusoidal temporal factor, whether there are one, two or three spatial dimensions. The spatial factors are called **modes of vibration** and every bounded continuous wave-bearing system has an infinite number of them.  When the waves are acoustic they're called This is also true of solid structure like plates, beams and car frames as long as they support linear waves, so you'll be hearing a lot more about modes as you study acoustical engineering.\n",
    "\n",
    "We've found one mode of the string; what are the others? With only one spatial dimension they must fit the d'Alembert solution, which tells us how the temporal and spatial components must be related. If the time-variation is sinusoidal then the spatial variation must also be sinusoidal. Furthermore, if both boundaries reflect waves at their full amplitude and the initial velocity is zero, then the left and right-going components must be of equal amplitude, so by the derivation in the previous section they must be a scaled version of the first mode we found i.e.\n",
    "\n",
    "$$\n",
    "y(x,0) =  \\sin\\left(\\frac{\\alpha x}{L}\\right) .\n",
    "$$\n",
    "\n",
    "This will satisfy the boundary condition at $x=0$ whatever $\\alpha$ is, but it will only satisfy the condition at $x= L$ if $\\alpha = \\pi n$ where $n = 0,1,2,\\ldots$, so\n",
    "\n",
    "$$\n",
    "y(x,0) =  \\sin\\left(\\frac{\\pi n x}{L}\\right) .\n",
    "$$\n",
    "\n",
    "\n",
    "We can easily animate these modes if we define a function `mode()`. We'll make `n` a global variable so that `mode()` only takes a single argument, giving it the same syntax as `sinusoidal()`."
   ]
  },
  {
   "cell_type": "code",
   "execution_count": 5,
   "metadata": {
    "collapsed": false
   },
   "outputs": [],
   "source": [
    "n = 5\n",
    "\n",
    "def mode(x):\n",
    "    return sin(n*pi*x/L)\n",
    "\n",
    "outer_ani = string_init(mode, 200)"
   ]
  },
  {
   "cell_type": "markdown",
   "metadata": {
    "collapsed": true
   },
   "source": [
    "Try this with different values of $n$ and observe how the frequency of vbration changes, even though the component waves (red and blue) are always travelling at the same speed. We could work out how the frequency depends on $n$ by observing this animation, but we ought to be able to obtain it mathematically, so we'll try it that way. We have\n",
    "\n",
    "$$\n",
    "y(x,t) =  \\sin\\left(\\frac{\\pi nx}{L}\\right) \\cos \\gamma t.\n",
    "$$\n",
    "\n",
    "where $\\gamma$ is unknown, which must satisfy \n",
    "\n",
    "$$ \n",
    "\\frac{\\partial^2 y}{\\partial x^2} - \\frac{1}{c^2}\\frac{\\partial^2 y}{\\partial t^2} = 0.\n",
    "$$\n",
    "\n",
    "We have\n",
    "\n",
    "$$ \n",
    "\\frac{\\partial^2 y}{\\partial x^2} = -\\frac{\\pi^2 n^2}{L^2}\\sin\\left(\\frac{\\pi nx}{L}\\right)\\cos \\gamma t.\n",
    "$$\n",
    "\n",
    "and\n",
    "\n",
    "$$ \n",
    "\\frac{\\partial^2 y}{\\partial t^2} = -\\gamma^2\\sin\\left(\\frac{\\pi nx}{L}\\right)\\cos \\gamma t.\n",
    "$$\n",
    "\n",
    "so\n",
    "\n",
    "$$\n",
    "-\\frac{\\pi^2 n^2}{L^2} + \\frac{\\gamma^2}{c^2} = 0,\n",
    "$$\n",
    "\n",
    "which is satisfied when \n",
    "\n",
    "$$\n",
    "\\gamma = \\frac{\\pi n c}{L} = n \\omega_1,\n",
    "$$\n",
    "\n",
    "where $\\omega_1 = \\pi c/L$ is the circular frequency of the first mode we found. So to summarize:\n",
    "- Each mode has an associated frequency.\n",
    "- The modal frequencies are all integer multiples of a fundamental frequency $f_1 = \\omega_1/2\\pi$.\n",
    "\n",
    "In the next notebook we'll use these modes to predict the motion of the plucked string in a way that reveals the frequency content."
   ]
  },
  {
   "cell_type": "markdown",
   "metadata": {},
   "source": [
    "## Summary\n",
    "\n",
    "[Edit this cell to summarise the important points from this notebook]"
   ]
  },
  {
   "cell_type": "code",
   "execution_count": null,
   "metadata": {
    "collapsed": true
   },
   "outputs": [],
   "source": []
  }
 ],
 "metadata": {
  "anaconda-cloud": {},
  "kernelspec": {
   "display_name": "Python [Root]",
   "language": "python",
   "name": "Python [Root]"
  },
  "language_info": {
   "codemirror_mode": {
    "name": "ipython",
    "version": 3
   },
   "file_extension": ".py",
   "mimetype": "text/x-python",
   "name": "python",
   "nbconvert_exporter": "python",
   "pygments_lexer": "ipython3",
   "version": "3.5.2"
  }
 },
 "nbformat": 4,
 "nbformat_minor": 0
}
