{
 "cells": [
  {
   "cell_type": "markdown",
   "metadata": {},
   "source": [
    "# ISVR1032 Acoustics I\n",
    "## Plucked string - modal approach\n",
    "### Matthew Wright mcmw@isvr.soton.ac.uk"
   ]
  },
  {
   "cell_type": "code",
   "execution_count": 1,
   "metadata": {
    "collapsed": false
   },
   "outputs": [
    {
     "name": "stdout",
     "output_type": "stream",
     "text": [
      "Populating the interactive namespace from numpy and matplotlib\n"
     ]
    }
   ],
   "source": [
    "%pylab inline\n",
    "import matplotlib.animation as animation"
   ]
  },
  {
   "cell_type": "markdown",
   "metadata": {},
   "source": [
    "## Linearity\n",
    "\n",
    "In the previous notebook we saw that the string with fixed ends has a series of modes, each with its own associated frequency, and those frequencies are all integer multiples of a **fundamental** frequency; the frequency of the lowest mode.\n",
    "\n",
    "Because the wave equation and the boundary conditions are linear we can apply the **principle of superposition** to initial condition problems. So if an initial condition $y_0^{(1)}(x)$ produces subsequent motion $y^{(1)}(x,t)$, and another initial condition $y_0^{(2)}(x)$ produces subsequent motion $y^{(2)}(x,t)$, then initial condition $y_0^{(1)}(x) + y_0^{(2)}(x)$ will produce subsequent motion $y^{(1)}(x,t) + y^{(2)}(x,t)$.\n",
    "\n",
    "This means that any initial condition that can be written as a sum of modes will cause a subsequent motion that is the sum of the subsequent motions of each of those modes. In other words, whenever $y_0(x)$ is a function for which we can write\n",
    "\n",
    "$$\n",
    "y_0(x) = \\sum_{n=1}^\\infty A_n \\Phi_n(x),\n",
    "$$\n",
    "\n",
    "where\n",
    "\n",
    "$$\n",
    "\\Phi_n(x) = \\sin\\left(\\frac{n\\pi x}{L}\\right)\n",
    "$$\n",
    "\n",
    "are the modeshapes, then the subsequent motion will be\n",
    "\n",
    "$$\n",
    "y(x,t) = \\sum_{n=1}^\\infty A_n \\Phi_n(x) \\cos(2\\pi n f_1 t)\n",
    "$$\n",
    "\n",
    "where $f_1 = c/2L$ is the fundamental frequency. Then the signal obtained from the strings displacement at a particular location $x_s$ will be the sum of a series of sinusoidal tones.\n",
    "\n",
    "It turns out that one of the initial conditions that we can write as a sum of modes is\n",
    "\n",
    "$$\n",
    "y_0(x) = \\begin{cases} \n",
    "   \\displaystyle \\frac{ux}{\\beta L} , & 0\\le x < \\beta L \\\\\n",
    "   \\displaystyle \\frac{u(L-x)}{(1-\\beta)L}, & \\beta L <x \\le L,\n",
    "\\end{cases}\n",
    "$$\n",
    "\n",
    "where we've used $u$ for the amplitude of the pluck rather than $A$ as before to avoid confusion with $A_n$, the coefficient of $\\Phi(x)$ in the  series.\n",
    "\n",
    "We don't yet know how to calculate the $A_n$ for a given function so you'll have to take it on trust that in this case the answer is\n",
    "\n",
    "$$\n",
    "A_n = \\frac{2u\\sin(\\pi\\beta n)}{\\pi^2(\\beta-1)\\beta n^2}.\n",
    "$$\n",
    "\n",
    "This is an example of a **Fourier Series** and is a very important simplifying concept in acoustical engineering. Often Fourier series will depend on $t$ but this one depends on $x$.\n",
    "\n",
    "Except of course you don't have to take it on trust that the definition of $A_n$ is correct.\n",
    "\n",
    "#### Worked example\n",
    "\n",
    "Demonstrate that \n",
    "\n",
    "$$\n",
    "\\sum_{n=1}^\\infty A_n \\Phi_n(x),\n",
    "$$\n",
    "\n",
    "with the above definitions for $A_n$ and $Phi_n$, converges to $y_0$ as defined above.\n",
    "\n",
    "#### Solution\n",
    "First the function definitions and the parameters:"
   ]
  },
  {
   "cell_type": "code",
   "execution_count": 4,
   "metadata": {
    "collapsed": true
   },
   "outputs": [],
   "source": [
    "def y0(x):\n",
    "    return (u/L)*((x/beta)*(x >= 0)*(x < beta*L) + \n",
    "                  (L - x)/(1 - beta)*(x >= beta*L)*(x <= L))\n",
    "\n",
    "def Phi(x,n):\n",
    "    return sin(pi*n*x/L)\n",
    "\n",
    "def A(n):\n",
    "    return -2*u*sin(pi*beta*n)/(pi**2*(beta-1)*beta*n**2)"
   ]
  },
  {
   "cell_type": "markdown",
   "metadata": {},
   "source": [
    "Then we can set the parameters and then use `meshgrid()` to evaluate our functions over an array of values of $x$ and $n$. We can't let $n$ go up to infinity; we'll let it go up to ten instead. "
   ]
  },
  {
   "cell_type": "code",
   "execution_count": 13,
   "metadata": {
    "collapsed": false,
    "scrolled": true
   },
   "outputs": [
    {
     "data": {
      "text/plain": [
       "(0, 0.011000000000000001)"
      ]
     },
     "execution_count": 13,
     "metadata": {},
     "output_type": "execute_result"
    },
    {
     "data": {
      "image/png": "[encoded data removed]",
      "text/plain": [
       "<matplotlib.figure.Figure at 0x2e4f6c01f28>"
      ]
     },
     "metadata": {},
     "output_type": "display_data"
    }
   ],
   "source": [
    "u = 0.01\n",
    "beta = 0.3\n",
    "L = 0.63\n",
    "n_max = 50\n",
    "\n",
    "n, x = meshgrid(arange(1, n_max + 1), linspace(0, L, 500))\n",
    "plot(x[:,0], y0(x[:,0]), 'r',\n",
    "     x[:,0], sum(A(n)*Phi(x, n), axis=1), 'b')\n",
    "ylim([0, 1.1*u])   # Make sure we can see the top"
   ]
  },
  {
   "cell_type": "markdown",
   "metadata": {},
   "source": [
    "If you're not sure what `meshgrid()` and `sum()` are doing, go back to the notebook on plotting functions of two variables.\n",
    "\n",
    "#### Exercises\n",
    "1. Modify the code so that it takes the first 50 modes.\n",
    "2. Change the pluck amplitude $u$ and the plucking point $\\beta$ to make sure both lines change.\n",
    "3. Plot the series (but not $y_0$) over a wider range of $x$ to show that the series is periodic (tip: comment out the `ylim()` call)."
   ]
  },
  {
   "cell_type": "markdown",
   "metadata": {},
   "source": [
    "## Subsequent motion\n",
    "\n",
    "As we said above, the subsequent motion is given by\n",
    "\n",
    "$$\n",
    "y(x,t) = \\sum_{n=1}^\\infty A_n \\Phi_n(x) \\cos(2\\pi n f_1 t)\n",
    "$$\n",
    "\n",
    "where $f_1 = c/2L$, so we can animate the string motion by evaluating this expression. First of all we'll calculate $f_1$, choosing the wave speed to be 200 m/s."
   ]
  },
  {
   "cell_type": "code",
   "execution_count": 14,
   "metadata": {
    "collapsed": false
   },
   "outputs": [
    {
     "name": "stdout",
     "output_type": "stream",
     "text": [
      "158.73015873015873\n"
     ]
    }
   ],
   "source": [
    "c = 200\n",
    "L = 0.63\n",
    "f1 = c/(2*L)\n",
    "print(f1)"
   ]
  },
  {
   "cell_type": "markdown",
   "metadata": {},
   "source": [
    "Then we'll change to external graphics windows."
   ]
  },
  {
   "cell_type": "code",
   "execution_count": 15,
   "metadata": {
    "collapsed": false
   },
   "outputs": [
    {
     "name": "stdout",
     "output_type": "stream",
     "text": [
      "Using matplotlib backend: Qt4Agg\n"
     ]
    }
   ],
   "source": [
    "%matplotlib"
   ]
  },
  {
   "cell_type": "markdown",
   "metadata": {},
   "source": [
    "If you've changed any of the definitions of `A()` or `Phi()` change them back as they'll be called when we animate. We'll also reset the rest of the parameters which might have changed. "
   ]
  },
  {
   "cell_type": "code",
   "execution_count": 21,
   "metadata": {
    "collapsed": false
   },
   "outputs": [],
   "source": [
    "u = 0.01\n",
    "beta = 0.3\n",
    "n_max = 100\n",
    "\n",
    "n, x = meshgrid(arange(1, n_max + 1), linspace(0, L, 500))\n",
    "\n",
    "movie = []                             \n",
    "fig, ax = subplots()\n",
    "for t in linspace(0, 1/f1, 100):           \n",
    "    frame = ax.plot(x[:,0], \n",
    "                    sum(A(n)*Phi(x, n)*cos(2*pi*n*f1*t), axis=1), 'b')\n",
    "    movie.append(frame)                 \n",
    "\n",
    "ani = animation.ArtistAnimation(fig, movie, interval=50, blit=True)     \n",
    "fig.show() "
   ]
  },
  {
   "cell_type": "markdown",
   "metadata": {},
   "source": [
    "This works, but it's not very efficient because `A()`, `Phi()` and `cos()` are all evaluated with arrays of $500\\times 20$ values at every timestep. We can make it easier on the computer by taking advantage of the separability and computing $A_n\\Phi_n(x)$ outside the loop."
   ]
  },
  {
   "cell_type": "code",
   "execution_count": 24,
   "metadata": {
    "collapsed": false
   },
   "outputs": [],
   "source": [
    "u = 0.01\n",
    "beta = 0.05\n",
    "n_max = 50\n",
    "\n",
    "n, x = meshgrid(arange(1, n_max + 1), linspace(0, L, 500))\n",
    "A_n_Phi_n = A(n)*Phi(x, n)\n",
    "\n",
    "movie = []                             \n",
    "fig, ax = subplots()\n",
    "for t in linspace(0, 1/f1, 100):           \n",
    "    frame = ax.plot(x[:,0], \n",
    "                    sum(A_n_Phi_n*cos(2*pi*n*f1*t), axis=1), 'b')\n",
    "    movie.append(frame)                 \n",
    "\n",
    "ani = animation.ArtistAnimation(fig, movie, interval=50, blit=True)     \n",
    "fig.show() "
   ]
  },
  {
   "cell_type": "markdown",
   "metadata": {},
   "source": [
    "## Signals\n",
    "\n",
    "So far this representation has given us an alternative way of animating the motion of a plucked string, but we could already do that with the d'Alembert solution - why do we need another?\n",
    "\n",
    "To answer that question lets evaluate the force signal at the bridge. We plotted that before but didn't write an expression for it. The force is given by $\\tau\\partial y/\\partial x$ at $x=0$. In our modal form of the solution the gradient is just\n",
    "\n",
    "$$\n",
    "\\frac{\\partial y}{\\partial x}(x,t) = \\sum_{n=1}^\\infty A_n \\Phi'_n(x) \\cos(2\\pi n f_1 t)\n",
    "$$\n",
    "\n",
    "where \n",
    "\n",
    "$$\n",
    "\\Phi'_n(x) = -\\frac{n\\pi}{L}\\cos\\left(\\frac{n\\pi x}{L}\\right)\n",
    "$$\n",
    "\n",
    "so\n",
    "\n",
    "$$\n",
    "\\frac{\\partial y}{\\partial x}(0,t) = \\sum_{n=1}^\\infty -\\frac{n\\pi A_n}{L}  \\cos(2\\pi n f_1 t) \n",
    "$$\n",
    "\n",
    "because $\\Phi'_n(0) = 1$.\n",
    "\n",
    "We can plot this to make sure it agrees with the previous version:"
   ]
  },
  {
   "cell_type": "code",
   "execution_count": 25,
   "metadata": {
    "collapsed": true
   },
   "outputs": [],
   "source": [
    "%matplotlib inline"
   ]
  },
  {
   "cell_type": "code",
   "execution_count": 26,
   "metadata": {
    "collapsed": false,
    "scrolled": true
   },
   "outputs": [
    {
     "data": {
      "text/plain": [
       "<matplotlib.legend.Legend at 0x2e4f87a69b0>"
      ]
     },
     "execution_count": 26,
     "metadata": {},
     "output_type": "execute_result"
    },
    {
     "data": {
      "image/png": "[encoded data removed]",
      "text/plain": [
       "<matplotlib.figure.Figure at 0x2e4f6cfab00>"
      ]
     },
     "metadata": {},
     "output_type": "display_data"
    }
   ],
   "source": [
    "tau = 100                     # Tension in Newtons\n",
    "n_max = 50\n",
    "\n",
    "n, t = meshgrid(arange(1, n_max + 1), linspace(0, 3/f1, 1000))\n",
    "beta = 0.2\n",
    "plot(t[:,0], -tau*sum((n*pi/L)*A(n)*cos(2*pi*n*f1*t), axis=1))\n",
    "beta = 0.4\n",
    "plot(t[:,0], -tau*sum((n*pi/L)*A(n)*cos(2*pi*n*f1*t), axis=1))\n",
    "xlabel('Time (s)')\n",
    "ylabel('Force (N)')\n",
    "legend(('beta = 0.2', 'beta = 0.4'))"
   ]
  },
  {
   "cell_type": "markdown",
   "metadata": {},
   "source": [
    "The overshoot and ringing at the discontinuities is called the Gibbs phenomenon - you'll learn about it when you study Fourier series.\n",
    "\n",
    "The form of this expression shows that it is the sum of a series of sinusoids which we can recognise as the harmonic components of the note. We can plot the relative amplitude of each harmonic as follows:"
   ]
  },
  {
   "cell_type": "code",
   "execution_count": 31,
   "metadata": {
    "collapsed": false
   },
   "outputs": [
    {
     "data": {
      "text/plain": [
       "<matplotlib.text.Text at 0x2e4f870c6d8>"
      ]
     },
     "execution_count": 31,
     "metadata": {},
     "output_type": "execute_result"
    },
    {
     "data": {
      "image/png": "[encoded data removed]",
      "text/plain": [
       "<matplotlib.figure.Figure at 0x2e4f7205f60>"
      ]
     },
     "metadata": {},
     "output_type": "display_data"
    }
   ],
   "source": [
    "u= 0.01\n",
    "beta = 0.2\n",
    "\n",
    "n = arange(1, 21)\n",
    "stem(n*f1, abs(-tau*(n*pi/L)*A(n)))\n",
    "xlabel('Frequency [Hz]')\n",
    "ylabel('Force amplitude [N]')"
   ]
  },
  {
   "cell_type": "markdown",
   "metadata": {},
   "source": [
    "As this graph shows, the amplitude of the fifth, tenth, fifteenth etc. harmonic is zero. We used `stem()` rather that `plot()` because the harmonics are discrete, so joining the points with lines wouldn't be meaningful. We plotted the absolute value of the amplitude because it's the magnitude that determines how loud it is. \n",
    "\n",
    "#### Exercises\n",
    "1. Adjust `u` and `beta` to see how the graph varies with them. \n",
    "2. Examine the form of $A_n$ to find the conditions under which $A_n = 0$.\n",
    "3. Modify the code to plot the amplitude magnitudes in decibels."
   ]
  },
  {
   "cell_type": "markdown",
   "metadata": {},
   "source": [
    "## Summary\n",
    "\n",
    "[Edit this cell to summarise the important points from this notebook]"
   ]
  },
  {
   "cell_type": "code",
   "execution_count": null,
   "metadata": {
    "collapsed": true
   },
   "outputs": [],
   "source": []
  }
 ],
 "metadata": {
  "anaconda-cloud": {},
  "kernelspec": {
   "display_name": "Python [Root]",
   "language": "python",
   "name": "Python [Root]"
  },
  "language_info": {
   "codemirror_mode": {
    "name": "ipython",
    "version": 3
   },
   "file_extension": ".py",
   "mimetype": "text/x-python",
   "name": "python",
   "nbconvert_exporter": "python",
   "pygments_lexer": "ipython3",
   "version": "3.5.2"
  }
 },
 "nbformat": 4,
 "nbformat_minor": 0
}
