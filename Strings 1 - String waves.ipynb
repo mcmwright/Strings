{
 "cells": [
  {
   "cell_type": "markdown",
   "metadata": {},
   "source": [
    "# ISVR1032 Acoustics I\n",
    "## Waves on strings\n",
    "### Matthew  Wright mcmw@isvr.soton.ac.uk\n",
    "In this session we're going to use Python/NumPy/Matplotlib to examine waves moving in one dimensionStated mathematically, we're interested in a function $y(x,t)$ of two variables that represents how the string's vertical displacement varies with $x$, the distance along the string, and $t$ the time.\n",
    "\n",
    "Before we begin begin we'll use the `pylab` magic to import the functions from NumPy and Matplotlib that we'll need, and we'll specify that we want our plots to appear in the notebook rather than in a separate window."
   ]
  },
  {
   "cell_type": "code",
   "execution_count": 6,
   "metadata": {
    "collapsed": false
   },
   "outputs": [
    {
     "name": "stdout",
     "output_type": "stream",
     "text": [
      "Populating the interactive namespace from numpy and matplotlib\n"
     ]
    },
    {
     "name": "stderr",
     "output_type": "stream",
     "text": [
      "WARNING: pylab import has clobbered these variables: ['f']\n",
      "`%matplotlib` prevents importing * from pylab and numpy\n"
     ]
    }
   ],
   "source": [
    "%pylab inline"
   ]
  },
  {
   "cell_type": "markdown",
   "metadata": {},
   "source": [
    "We'll start with a function $f(x)$ of a single variable as follows. We call this Python implementation of it `f_scalar_arg()` to remind us that we can only call it when `x` is a single number."
   ]
  },
  {
   "cell_type": "code",
   "execution_count": 7,
   "metadata": {
    "collapsed": true
   },
   "outputs": [],
   "source": [
    "def f_scalar_arg(x):\n",
    "    if 0 < x < 1:\n",
    "        return 1.0 - x\n",
    "    elif -1 < x <= 0:\n",
    "        return x + 1\n",
    "    else:\n",
    "        return 0.0"
   ]
  },
  {
   "cell_type": "markdown",
   "metadata": {},
   "source": [
    "We can create a corresponding function that works when the array is an array like this:"
   ]
  },
  {
   "cell_type": "code",
   "execution_count": 8,
   "metadata": {
    "collapsed": false
   },
   "outputs": [],
   "source": [
    "f = vectorize(f_scalar_arg)"
   ]
  },
  {
   "cell_type": "markdown",
   "metadata": {},
   "source": [
    "and we can plot it like this"
   ]
  },
  {
   "cell_type": "code",
   "execution_count": 9,
   "metadata": {
    "collapsed": false
   },
   "outputs": [
    {
     "data": {
      "text/plain": [
       "<matplotlib.text.Text at 0x9f1fe10>"
      ]
     },
     "execution_count": 9,
     "metadata": {},
     "output_type": "execute_result"
    },
    {
     "data": {
      "image/png": "[encoded data removed]",
      "text/plain": [
       "<matplotlib.figure.Figure at 0x9f9eb70>"
      ]
     },
     "metadata": {},
     "output_type": "display_data"
    }
   ],
   "source": [
    "x = linspace(-5,5,1000)\n",
    "plot(x,f(x),'b')\n",
    "axis('equal')            # Make x and y axis scales the same size \n",
    "xlabel('x')"
   ]
  },
  {
   "cell_type": "markdown",
   "metadata": {},
   "source": [
    "What happens to the line if we subtract a number from the argument before we plot it? In other words how does a graph of $f(x - \\xi)$ differ from one of $f(x)$? We ought to be able to work this out but we can check we're right by plotting both on the same axes, for a chosen value of $\\xi$, in this case $0.3$. We'll use different colours for the two lines so we can be sure which is which."
   ]
  },
  {
   "cell_type": "code",
   "execution_count": 10,
   "metadata": {
    "collapsed": false
   },
   "outputs": [
    {
     "data": {
      "text/plain": [
       "(-6.0, 6.0, 0.0, 1.0)"
      ]
     },
     "execution_count": 10,
     "metadata": {},
     "output_type": "execute_result"
    },
    {
     "data": {
      "image/png": "[encoded data removed]",
      "text/plain": [
       "<matplotlib.figure.Figure at 0xb7f9c18>"
      ]
     },
     "metadata": {},
     "output_type": "display_data"
    }
   ],
   "source": [
    "plot(x,f(x),'b', x,f(x - 0.3),'r')\n",
    "axis('equal')"
   ]
  },
  {
   "cell_type": "markdown",
   "metadata": {},
   "source": [
    "Try changing the `0.3` in the previous cell to different numbers and executing it again."
   ]
  },
  {
   "cell_type": "markdown",
   "metadata": {},
   "source": [
    "If we want the displacement of our string to be a wave that moves to the right as time increases then we could make $y(x,t)$ equal to $f(x)$ with a quantity subtracted from $x$ that's proportional to $t$ e.g. $y(x,t) = f(x - ct)$. \n",
    "\n",
    "What are the dimensions of $c$? Well, $x$ has the dimensions of length (SI units: metres), so $ct$ must have the same dimensions; $t$ has the dimensions of time (SI units: seconds) so $c$ must have dimensions 'length over time' and units metres per second. \n",
    "\n",
    "For our Python version of $y(x,t)$ we'll make `c` a global variable so it has the same value in all functions."
   ]
  },
  {
   "cell_type": "code",
   "execution_count": 11,
   "metadata": {
    "collapsed": true
   },
   "outputs": [],
   "source": [
    "c = 1.0\n",
    "def y(x, t):\n",
    "    return f(x - c*t)"
   ]
  },
  {
   "cell_type": "markdown",
   "metadata": {},
   "source": [
    "Let's check that this behaves as we want, i.e. that the shape moves to the right as time increases:"
   ]
  },
  {
   "cell_type": "code",
   "execution_count": 16,
   "metadata": {
    "collapsed": false
   },
   "outputs": [
    {
     "data": {
      "text/plain": [
       "(-6.0, 6.0, 0.0, 1.0)"
      ]
     },
     "execution_count": 16,
     "metadata": {},
     "output_type": "execute_result"
    },
    {
     "data": {
      "image/png": "[encoded data removed]",
      "text/plain": [
       "<matplotlib.figure.Figure at 0xbe655c0>"
      ]
     },
     "metadata": {},
     "output_type": "display_data"
    }
   ],
   "source": [
    "c = 1.0\n",
    "def y(x, t):\n",
    "    return f(x - c*t)\n",
    "\n",
    "plot(x, y(x, 0), 'b',\n",
    "     x, y(x, 0.5), 'r')\n",
    "axis('equal')"
   ]
  },
  {
   "cell_type": "markdown",
   "metadata": {},
   "source": [
    "## Exercise\n",
    "\n",
    "Verify that if we increase $c$ the shape moves further in the same time interval, i.e. that $c$ is the wave speed. Make a copy of the code cell above and paste it below this one to record the code you used to show this.\n",
    "\n",
    "------"
   ]
  },
  {
   "cell_type": "code",
   "execution_count": 15,
   "metadata": {
    "collapsed": false,
    "scrolled": false
   },
   "outputs": [
    {
     "data": {
      "text/plain": [
       "(-6.0, 6.0, 0.0, 1.0)"
      ]
     },
     "execution_count": 15,
     "metadata": {},
     "output_type": "execute_result"
    },
    {
     "data": {
      "image/png": "[encoded data removed]",
      "text/plain": [
       "<matplotlib.figure.Figure at 0xba18a90>"
      ]
     },
     "metadata": {},
     "output_type": "display_data"
    }
   ],
   "source": [
    "c = 10.0\n",
    "def y(x, t):\n",
    "    return f(x - c*t)\n",
    "\n",
    "plot(x, y(x, 0), 'b',\n",
    "     x, y(x, 0.5), 'r')\n",
    "axis('equal')"
   ]
  },
  {
   "cell_type": "code",
   "execution_count": 15,
   "metadata": {
    "collapsed": false,
    "scrolled": false
   },
   "outputs": [
    {
     "data": {
      "text/plain": [
       "(-6.0, 6.0, 0.0, 1.0)"
      ]
     },
     "execution_count": 15,
     "metadata": {},
     "output_type": "execute_result"
    },
    {
     "data": {
      "image/png": "[encoded data removed]",
      "text/plain": [
       "<matplotlib.figure.Figure at 0xba18a90>"
      ]
     },
     "metadata": {},
     "output_type": "display_data"
    }
   ],
   "source": [
    "c = 10.0\n",
    "def y(x, t):\n",
    "    return f(x - c*t)\n",
    "\n",
    "plot(x, y(x, 0), 'b',\n",
    "     x, y(x, 0.5), 'r')\n",
    "axis('equal')"
   ]
  },
  {
   "cell_type": "markdown",
   "metadata": {},
   "source": [
    "## Moving pictures\n",
    "It would be nice to see our wave moving. We can do this in Python but we need to tell Matplotlib to produce our figures in external windows, and we need to import some more functions:"
   ]
  },
  {
   "cell_type": "code",
   "execution_count": 20,
   "metadata": {
    "collapsed": false
   },
   "outputs": [
    {
     "name": "stdout",
     "output_type": "stream",
     "text": [
      "Using matplotlib backend: Qt4Agg\n"
     ]
    }
   ],
   "source": [
    "%matplotlib\n",
    "import matplotlib.animation as animation"
   ]
  },
  {
   "cell_type": "markdown",
   "metadata": {},
   "source": [
    "The code in the following cell makes our shape move at speed $c$ for $1$ second by producing a movie with 60 'frames' and displaying each frame for 50 milliseconds."
   ]
  },
  {
   "cell_type": "code",
   "execution_count": 26,
   "metadata": {
    "collapsed": false
   },
   "outputs": [],
   "source": [
    "def y(x, t):\n",
    "    return (f(x - c*t) + f(x + c*t))\n",
    "\n",
    "c = 2.0\n",
    "x = linspace(-5,5,1000)\n",
    "\n",
    "\n",
    "movie = []                              # Create an empty list \n",
    "(fig, ax) = subplots()\n",
    "fps = 50\n",
    "for t in arange(0, 2, 1.0/fps):            # Our movie will have 100 frames\n",
    "    frame = ax.plot(x, y(x, t), 'm', \n",
    "                    x, f(x - c*t), 'r',\n",
    "                   x, f(x + c*t), 'b')    # Create a frame\n",
    "    axis('equal')\n",
    "    movie.append(frame)                 # Add it to the movie\n",
    "    \n",
    "ani = animation.ArtistAnimation(fig, movie, interval=50)      # Show each frame for 50 milliseconds\n",
    "fig.show() "
   ]
  },
  {
   "cell_type": "markdown",
   "metadata": {},
   "source": [
    "### Exercises\n",
    "1. Modify the code so that the movie corresponds to five seconds of wave motion.\n",
    "1. Set $y(x, t) = f(x + ct)$ and verify that this wave moves to the left.\n",
    "3. Set $y(x, t) = f(x - ct) + f(x + ct)$ and start the time from $t = -5$ seconds to verify that the waves  superimpose once they move far enough."
   ]
  },
  {
   "cell_type": "markdown",
   "metadata": {},
   "source": [
    "## Surfaces\n",
    "The function $y(x,t)$ can also be plotted as a surface on 3D axes if we import suitable functions. We could make these plots inline but if we keep using external windows we can rotate the surfaces."
   ]
  },
  {
   "cell_type": "code",
   "execution_count": 27,
   "metadata": {
    "collapsed": true
   },
   "outputs": [],
   "source": [
    "from mpl_toolkits.mplot3d import Axes3D"
   ]
  },
  {
   "cell_type": "markdown",
   "metadata": {},
   "source": [
    "Then we need to use `meshgrid` to create arrays of $x$ and $t$ values and `plot_surface` to plot a surface (see other notebook for details). We'll set things up so that $y(x,0) = f(x)$."
   ]
  },
  {
   "cell_type": "code",
   "execution_count": 32,
   "metadata": {
    "collapsed": false
   },
   "outputs": [
    {
     "data": {
      "text/plain": [
       "(-3.0, 3.0, 0.0, 5.0)"
      ]
     },
     "execution_count": 32,
     "metadata": {},
     "output_type": "execute_result"
    }
   ],
   "source": [
    "def y(x, t):\n",
    "    return f(x - c*t)\n",
    "\n",
    "c = 1.0\n",
    "\n",
    "x, t = meshgrid(linspace(-3, 3, 200), linspace(0, 5, 200))\n",
    "\n",
    "fig = figure()\n",
    "ax = fig.gca(projection='3d')\n",
    "surf = ax.plot_surface(x, t, y(x,t), rstride=5, cstride=1, cmap=cm.cool)\n",
    "ax.set_xlabel('x')\n",
    "ax.set_ylabel('t')\n",
    "axis('equal')"
   ]
  },
  {
   "cell_type": "markdown",
   "metadata": {},
   "source": [
    "The surface isn't perfectly resolved but it should be possible to see what's going on.\n",
    "### Exercises\n",
    "Try to predict the effect *before* executing the cell.\n",
    "1. Change the wave speed to $c=2$ and re-plot the surface. \n",
    "2. Set $c = 1$ again and set $y(x,t) = f(x + ct)$ and re-plot.\n",
    "3. Set $y(x,t) = f(x-ct) + f(x+ct)$ and re-plot.\n",
    "\n",
    "---"
   ]
  },
  {
   "cell_type": "code",
   "execution_count": null,
   "metadata": {
    "collapsed": true
   },
   "outputs": [],
   "source": []
  }
 ],
 "metadata": {
  "kernelspec": {
   "display_name": "Python [Root]",
   "language": "python",
   "name": "Python [Root]"
  },
  "language_info": {
   "codemirror_mode": {
    "name": "ipython",
    "version": 3
   },
   "file_extension": ".py",
   "mimetype": "text/x-python",
   "name": "python",
   "nbconvert_exporter": "python",
   "pygments_lexer": "ipython3",
   "version": "3.5.2"
  }
 },
 "nbformat": 4,
 "nbformat_minor": 0
}
