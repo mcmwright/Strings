{
 "cells": [
  {
   "cell_type": "markdown",
   "metadata": {},
   "source": [
    "# ISVR1032 Acoustics I\n",
    "## Reflections on strings\n",
    "### Matthew Wright mcmw@isvr.soton.ac.uk"
   ]
  },
  {
   "cell_type": "code",
   "execution_count": 1,
   "metadata": {
    "collapsed": false
   },
   "outputs": [
    {
     "name": "stdout",
     "output_type": "stream",
     "text": [
      "Using matplotlib backend: Qt4Agg\n",
      "Populating the interactive namespace from numpy and matplotlib\n"
     ]
    }
   ],
   "source": [
    "%pylab\n",
    "import matplotlib.animation as animation"
   ]
  },
  {
   "cell_type": "markdown",
   "metadata": {},
   "source": [
    "In the lecture we used Newton's second law to derive the following wave equation for a stretched string:\n",
    "\n",
    "$$ \n",
    "\\tau \\frac{\\partial^2 y}{\\partial x^2} = \\mu\\frac{\\partial^2 y}{\\partial t^2},\n",
    "$$\n",
    "\n",
    "where $\\tau$ is the tension in Newtons and $\\mu$ is the mass per unit length in kilograms per metre. Our derivation required the following assumptions to hold:\n",
    "\n",
    "- All the restoring force comes from tension and none from flexural stiffness.\n",
    "- The tension and mass are uniformly distribted along the string.\n",
    "- All the motion lies in the $x$-$y$ plane.\n",
    "- The gradient $\\partial y/\\partial x$ is small everywhere.\n",
    "\n",
    "None of these assumptions are exactly true for a real string but they're close enough that we can make some useful predictions.\n",
    "\n",
    "We also showed (using the chain rule) that moving waves of the form \n",
    "\n",
    "$$\n",
    "y(x,t) = f(x - ct)\n",
    "$$\n",
    "\n",
    "(a right-going wave) or \n",
    "\n",
    "$$\n",
    "y(x,t) = g(x + ct)\n",
    "$$\n",
    "\n",
    "(a left-going wave) where $f$ and $g$ can each be any continuous function, and the wave speed $c$ is given by\n",
    "\n",
    "$$ c = \\sqrt{\\frac{\\tau}{\\mu}}.$$\n",
    "\n",
    "With this we can write the wave equation in the more usual form\n",
    "\n",
    "$$ \n",
    "\\frac{\\partial^2 y}{\\partial x^2} - \\frac{1}{c^2}\\frac{\\partial^2 y}{\\partial t^2} = 0,\n",
    "$$\n",
    "\n",
    "\n",
    "You'll hopefully remember from MATH1054 how to tell whether a PDE is linear - if not,remind yourself and check that our wave equation is indeed linear. Because it is, we have the very useful property that if we have two solutions then their sum is also a solution so we can write a more general solution as\n",
    "\n",
    "$$\n",
    "y(x,t) = y_+(x - ct) + y_-(x + ct).\n",
    "$$\n",
    "\n",
    "In fact this is the most general form possible and is known as <a href=\"https://en.wikipedia.org/wiki/Jean_le_Rond_d%27Alembert\" target=\"blank__\"> d'Alembert's</a> solution."
   ]
  },
  {
   "cell_type": "markdown",
   "metadata": {},
   "source": [
    "## Initial conditions\n",
    "\n",
    "Suppose that an infinitely long string is made to adopt some shape $y_0(x)$, is held stationary in that shape and is then released at time $t=0$.  This means we have the  **initial condition**\n",
    "\n",
    "$$\n",
    "y(x, 0) = y_0(x).\n",
    "$$\n",
    "\n",
    "Substituting this condition into d'Alembert's solution gives\n",
    "\n",
    "$$\n",
    "y_+(x) + y_-(x) = y_0(x), \\tag{1}\n",
    "$$\n",
    "\n",
    "which is not enough to determine $y_+$ and $y_-$. But the fact that the string was stationary when released gives us a second initial condition:\n",
    "\n",
    "$$\n",
    "\\frac{\\partial y}{\\partial t}(x, 0) = 0.\n",
    "$$\n",
    "\n",
    "\n",
    "By the chain rule, \n",
    "\n",
    "$$\n",
    "\\frac{\\partial y}{\\partial t} = -c y'_+(x-ct) + c y'_-(x+ct)\n",
    "$$\n",
    "\n",
    "\n",
    "so when $t = 0$ we have\n",
    "\n",
    "$$\n",
    "y'_+(x) = y'_-(x). \\tag{2}\n",
    "$$\n",
    "\n",
    "The only way to satisfy both $(1)$ and $(2)$ is if\n",
    "\n",
    "$$\n",
    "y_+(x) = y_-(x) = {\\textstyle \\frac{1}{2}}y_0(x),\n",
    "$$\n",
    "\n",
    "so that\n",
    "\n",
    "$$ \n",
    "y(x,t) = {\\textstyle \\frac{1}{2}}[y_0(x - ct) + y_0(x + ct)].\n",
    "$$"
   ]
  },
  {
   "cell_type": "markdown",
   "metadata": {},
   "source": [
    "#### Exercise\n",
    "By referring to the  code from the previous notebook, complete the code in the cell below by replacing the `____`s with valid code to simulate a string with stationary initial condition $y(x,0) = y_0(x) =\\mathrm{e}^{-x^2}$, showing both the full solution and the components."
   ]
  },
  {
   "cell_type": "code",
   "execution_count": 11,
   "metadata": {
    "collapsed": false
   },
   "outputs": [],
   "source": [
    "def y0(x):\n",
    "    return exp(-x**2)\n",
    "\n",
    "def y(x, t):\n",
    "    return 1.0/2 * (y0(x - c*t) + y0(x + c*t))\n",
    "c = 1.0\n",
    "x = linspace(-5, 5, 1000)\n",
    "\n",
    "movie = []                             \n",
    "fig, ax = subplots()\n",
    "for t in linspace(0, 5, 200):           \n",
    "    frame = ax.plot(x, y(x, t), 'm',\n",
    "                    x, 0*y0(x-c*t)/2, 'r',\n",
    "                    x, 0*y0(x + c*t)/2, 'b')    \n",
    "    axis('equal')\n",
    "    movie.append(frame)                 \n",
    "    \n",
    "ani = animation.ArtistAnimation(fig, movie, interval=50)     \n",
    "fig.show() "
   ]
  },
  {
   "cell_type": "markdown",
   "metadata": {},
   "source": [
    "## Reflections\n",
    "\n",
    "So far we haven't placed any restrictions on $x$, or any conditions on $f(\\cdot)$ or $g(\\cdot)$, which is fine if our string is infinitely long. Suppose now that the string is rigidly fixed at the point $x = x_0$, so that\n",
    "\n",
    "$$ \n",
    "y(x=x_0,t) = 0\\quad\\forall t,\n",
    "$$\n",
    "\n",
    "(the symbol $\\forall$ means 'for all'). This is an example of a *boundary condition*, and means that\n",
    "\n",
    "$$\n",
    "y_+(x_0 - ct) + y_-(x_0 + ct) = 0 \\quad\\forall t,\n",
    "$$\n",
    "\n",
    "If we define a new variable\n",
    "\n",
    "$$\n",
    "\\xi = x_0 + ct \n",
    "$$\n",
    "\n",
    "then we have\n",
    "\n",
    "$$\n",
    "y_-(\\xi) = -y_+(2x_0 - \\xi) \\quad\\forall\\xi\n",
    "$$\n",
    "\n",
    "and if this is true for all $\\xi$ it must be true when $\\xi = x + ct$ so that\n",
    "\n",
    "$$\n",
    "y_-(x + ct) = - y_+(2x_0 - x - ct) \n",
    "$$\n",
    "\n",
    "and\n",
    "\n",
    "$$\n",
    "y(x, t) = y_+(x - ct) - y_+(2x_0 - x - ct)\n",
    "$$\n",
    "\n",
    "so the reflected pulse has its polarity inverted and its direction reversed."
   ]
  },
  {
   "cell_type": "markdown",
   "metadata": {},
   "source": [
    "#### Worked example\n",
    "\n",
    "Illustrate a wave travelling to the right on a semi-infinite string occupying the domain $x \\le 3$ and reflecting from the fixed end. \n",
    "\n",
    "#### Solution\n",
    "To confirm that its direction is reversed we'll use an aymmetric function \n",
    "\n",
    "$$\n",
    "y_+(x) = \\begin{cases} x^2\\mathrm{e}^{-x^2}, & x \\ge 0, \\\\\n",
    "0, & x < 0 \\end{cases}\n",
    "$$\n",
    "\n",
    "We'll plot the full solution in magenta just up to the fixed end but we'll plot the d'Alembert components in blue and red over a larger range at a lower height. In each case we'll put a red dot at the reflection point. "
   ]
  },
  {
   "cell_type": "code",
   "execution_count": 14,
   "metadata": {
    "collapsed": false
   },
   "outputs": [],
   "source": [
    "def yplus(x):\n",
    "    return x**2*exp(-x**2)*(x > 0)\n",
    "\n",
    "def y(x, t):\n",
    "    return yplus(x - c*t) - yplus(2*x_0 - x - c*t)\n",
    "\n",
    "x_0 = 3.0\n",
    "c = 1.0\n",
    "xs = linspace(-2, x_0, 500)   # String up to x_0\n",
    "x = linspace(-2, 6, 1000)     # Extended domain\n",
    "\n",
    "movie = []                             \n",
    "fig, ax = subplots()\n",
    "for t in linspace(0, 5, 100):           \n",
    "    frame = ax.plot(xs, y(xs, t) + 1, 'm',               # Actual string       \n",
    "                    x, yplus(x - c*t), 'r',              # Right-going wave\n",
    "                    x, -yplus(2*x_0 - x - c*t), 'b',     # Left-going wave\n",
    "                    [x_0, x_0], [0, 1], 'ro')            # Dots\n",
    "    axis('equal')\n",
    "    movie.append(frame)                 \n",
    "    \n",
    "ani = animation.ArtistAnimation(fig, movie, interval=50)     \n",
    "fig.show() "
   ]
  },
  {
   "cell_type": "markdown",
   "metadata": {},
   "source": [
    "Notice that the real wave is the sum of two 'virtual' waves, one of which passes beyond the end of the string, and the other of which travels in from beyond the end of a string. It's a bit like being able to walk into a mirror and have your image step out and take your place.\n",
    "\n",
    "#### Exercises\n",
    "\n",
    "1. Make a copy of the code cell and modify it so that the reflected wave does *not* have its polarity inverted. What condition is satisfied at the end of the string?\n",
    "2. Make another copy and modify that one so that the string occupies $x \\ge -3$, the incident wave comes in from the right and reflects from the end at the left."
   ]
  },
  {
   "cell_type": "code",
   "execution_count": 13,
   "metadata": {
    "collapsed": false
   },
   "outputs": [],
   "source": [
    "def yplus(x):\n",
    "    return x**2*exp(-x**2)*(x > 0)\n",
    "\n",
    "def y(x, t):\n",
    "    return yplus(x - c*t) + yplus(2*x_0 - x - c*t)\n",
    "\n",
    "x_0 = 3.0\n",
    "c = 1.0\n",
    "xs = linspace(-2, x_0, 500)   # String up to x_0\n",
    "x = linspace(-2, 6, 1000)     # Extended domain\n",
    "\n",
    "movie = []                             \n",
    "fig, ax = subplots()\n",
    "for t in linspace(0, 5, 100):           \n",
    "    frame = ax.plot(xs, y(xs, t) + 1, 'm',               # Actual string       \n",
    "                    x, yplus(x - c*t), 'r',              # Right-going wave\n",
    "                    x, yplus(2*x_0 - x - c*t), 'b',     # Left-going wave\n",
    "                    [x_0, x_0], [0, 1], 'ro')            # Dots\n",
    "    axis('equal')\n",
    "    movie.append(frame)                 \n",
    "    \n",
    "ani = animation.ArtistAnimation(fig, movie, interval=50)     \n",
    "fig.show() "
   ]
  },
  {
   "cell_type": "code",
   "execution_count": null,
   "metadata": {
    "collapsed": true
   },
   "outputs": [],
   "source": []
  }
 ],
 "metadata": {
  "kernelspec": {
   "display_name": "Python [Root]",
   "language": "python",
   "name": "Python [Root]"
  },
  "language_info": {
   "codemirror_mode": {
    "name": "ipython",
    "version": 3
   },
   "file_extension": ".py",
   "mimetype": "text/x-python",
   "name": "python",
   "nbconvert_exporter": "python",
   "pygments_lexer": "ipython3",
   "version": "3.5.2"
  }
 },
 "nbformat": 4,
 "nbformat_minor": 0
}
